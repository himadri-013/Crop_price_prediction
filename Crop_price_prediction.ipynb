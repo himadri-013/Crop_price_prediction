{
 "cells": [
  {
   "cell_type": "code",
   "execution_count": 1,
   "id": "6d18f225-3963-415a-904f-60335e791941",
   "metadata": {},
   "outputs": [
    {
     "data": {
      "text/plain": [
       "State Name                -0.345138\n",
       "Dist Name                  0.002445\n",
       "Year                       0.034882\n",
       "Crop Name                  0.000000\n",
       "Price (Rs. per Quintal)    2.787775\n",
       "dtype: float64"
      ]
     },
     "execution_count": 1,
     "metadata": {},
     "output_type": "execute_result"
    }
   ],
   "source": [
    "import pandas as pd\n",
    "from sklearn.model_selection import train_test_split\n",
    "from sklearn.ensemble import RandomForestRegressor\n",
    "from sklearn.linear_model import LinearRegression\n",
    "from sklearn.metrics import mean_squared_error, r2_score\n",
    "from sklearn.preprocessing import LabelEncoder\n",
    "import numpy as np\n",
    "\n",
    "\n",
    "df = pd.read_csv(\"C:\\\\projects\\\\Crop Price Prediction\\\\5_CROPS_1966-2016_ALL_STATES.csv\")\n",
    "\n",
    "encoder_s = LabelEncoder()\n",
    "encoder_d = LabelEncoder()\n",
    "encoder_c = LabelEncoder()\n",
    "df['State Name'] = encoder_s.fit_transform(df['State Name'])\n",
    "df['Dist Name'] = encoder_d.fit_transform(df['Dist Name'])\n",
    "df['Crop Name'] = encoder_c.fit_transform(df['Crop Name'])\n",
    "\n",
    "\n",
    "df.skew()"
   ]
  },
  {
   "cell_type": "code",
   "execution_count": 2,
   "id": "a3cd5fb5-6c6e-4919-934f-5ff2c360273f",
   "metadata": {},
   "outputs": [
    {
     "data": {
      "text/html": [
       "<div>\n",
       "<style scoped>\n",
       "    .dataframe tbody tr th:only-of-type {\n",
       "        vertical-align: middle;\n",
       "    }\n",
       "\n",
       "    .dataframe tbody tr th {\n",
       "        vertical-align: top;\n",
       "    }\n",
       "\n",
       "    .dataframe thead th {\n",
       "        text-align: right;\n",
       "    }\n",
       "</style>\n",
       "<table border=\"1\" class=\"dataframe\">\n",
       "  <thead>\n",
       "    <tr style=\"text-align: right;\">\n",
       "      <th></th>\n",
       "      <th>State Name</th>\n",
       "      <th>Dist Name</th>\n",
       "      <th>Year</th>\n",
       "      <th>Crop Name</th>\n",
       "      <th>Price (Rs. per Quintal)</th>\n",
       "    </tr>\n",
       "  </thead>\n",
       "  <tbody>\n",
       "    <tr>\n",
       "      <th>0</th>\n",
       "      <td>3</td>\n",
       "      <td>92</td>\n",
       "      <td>1966</td>\n",
       "      <td>0</td>\n",
       "      <td>394.160479</td>\n",
       "    </tr>\n",
       "    <tr>\n",
       "      <th>1</th>\n",
       "      <td>3</td>\n",
       "      <td>92</td>\n",
       "      <td>1967</td>\n",
       "      <td>0</td>\n",
       "      <td>394.160479</td>\n",
       "    </tr>\n",
       "    <tr>\n",
       "      <th>2</th>\n",
       "      <td>3</td>\n",
       "      <td>92</td>\n",
       "      <td>1968</td>\n",
       "      <td>0</td>\n",
       "      <td>394.160479</td>\n",
       "    </tr>\n",
       "    <tr>\n",
       "      <th>3</th>\n",
       "      <td>3</td>\n",
       "      <td>92</td>\n",
       "      <td>1969</td>\n",
       "      <td>0</td>\n",
       "      <td>394.160479</td>\n",
       "    </tr>\n",
       "    <tr>\n",
       "      <th>4</th>\n",
       "      <td>3</td>\n",
       "      <td>92</td>\n",
       "      <td>1970</td>\n",
       "      <td>0</td>\n",
       "      <td>394.160479</td>\n",
       "    </tr>\n",
       "    <tr>\n",
       "      <th>...</th>\n",
       "      <td>...</td>\n",
       "      <td>...</td>\n",
       "      <td>...</td>\n",
       "      <td>...</td>\n",
       "      <td>...</td>\n",
       "    </tr>\n",
       "    <tr>\n",
       "      <th>90775</th>\n",
       "      <td>7</td>\n",
       "      <td>271</td>\n",
       "      <td>1985</td>\n",
       "      <td>5</td>\n",
       "      <td>188.350000</td>\n",
       "    </tr>\n",
       "    <tr>\n",
       "      <th>90776</th>\n",
       "      <td>7</td>\n",
       "      <td>271</td>\n",
       "      <td>1986</td>\n",
       "      <td>5</td>\n",
       "      <td>193.600000</td>\n",
       "    </tr>\n",
       "    <tr>\n",
       "      <th>90777</th>\n",
       "      <td>7</td>\n",
       "      <td>271</td>\n",
       "      <td>1987</td>\n",
       "      <td>5</td>\n",
       "      <td>186.600000</td>\n",
       "    </tr>\n",
       "    <tr>\n",
       "      <th>90778</th>\n",
       "      <td>7</td>\n",
       "      <td>271</td>\n",
       "      <td>1988</td>\n",
       "      <td>5</td>\n",
       "      <td>275.300000</td>\n",
       "    </tr>\n",
       "    <tr>\n",
       "      <th>90779</th>\n",
       "      <td>7</td>\n",
       "      <td>271</td>\n",
       "      <td>1989</td>\n",
       "      <td>5</td>\n",
       "      <td>250.500000</td>\n",
       "    </tr>\n",
       "  </tbody>\n",
       "</table>\n",
       "<p>90780 rows × 5 columns</p>\n",
       "</div>"
      ],
      "text/plain": [
       "       State Name  Dist Name  Year  Crop Name  Price (Rs. per Quintal)\n",
       "0               3         92  1966          0               394.160479\n",
       "1               3         92  1967          0               394.160479\n",
       "2               3         92  1968          0               394.160479\n",
       "3               3         92  1969          0               394.160479\n",
       "4               3         92  1970          0               394.160479\n",
       "...           ...        ...   ...        ...                      ...\n",
       "90775           7        271  1985          5               188.350000\n",
       "90776           7        271  1986          5               193.600000\n",
       "90777           7        271  1987          5               186.600000\n",
       "90778           7        271  1988          5               275.300000\n",
       "90779           7        271  1989          5               250.500000\n",
       "\n",
       "[90780 rows x 5 columns]"
      ]
     },
     "execution_count": 2,
     "metadata": {},
     "output_type": "execute_result"
    }
   ],
   "source": [
    "\n",
    "df"
   ]
  },
  {
   "cell_type": "code",
   "execution_count": 3,
   "id": "5e54f0b2-4002-49de-b398-0ed6dddafe3f",
   "metadata": {},
   "outputs": [
    {
     "data": {
      "text/plain": [
       "State Name                -0.345138\n",
       "Dist Name                  0.002445\n",
       "Year                       0.034882\n",
       "Crop Name                  0.000000\n",
       "Price (Rs. per Quintal)   -0.639469\n",
       "dtype: float64"
      ]
     },
     "execution_count": 3,
     "metadata": {},
     "output_type": "execute_result"
    }
   ],
   "source": [
    "df['Price (Rs. per Quintal)'] = np.log(df['Price (Rs. per Quintal)'])\n",
    "\n",
    "df.skew()"
   ]
  },
  {
   "cell_type": "code",
   "execution_count": 4,
   "id": "afbd6bb7-10ab-4269-9625-5050c3b44545",
   "metadata": {},
   "outputs": [
    {
     "data": {
      "text/plain": [
       "State Name                -0.345138\n",
       "Dist Name                  0.002445\n",
       "Year                       0.034882\n",
       "Crop Name                  0.000000\n",
       "Price (Rs. per Quintal)   -0.161501\n",
       "dtype: float64"
      ]
     },
     "execution_count": 4,
     "metadata": {},
     "output_type": "execute_result"
    }
   ],
   "source": [
    "df['Price (Rs. per Quintal)'] = df['Price (Rs. per Quintal)'] ** 2\n",
    "df.skew()"
   ]
  },
  {
   "cell_type": "code",
   "execution_count": 5,
   "id": "708b1246-2da0-4d64-a531-1b0b500f92e2",
   "metadata": {},
   "outputs": [
    {
     "name": "stdout",
     "output_type": "stream",
     "text": [
      "Mean Squared Error: 10.59396465980913\n",
      "R-squared: 0.8386240400161356\n"
     ]
    }
   ],
   "source": [
    "##using Random Forset\n",
    "X = df.drop(columns = ['Price (Rs. per Quintal)'])\n",
    "y = df['Price (Rs. per Quintal)']\n",
    "#X = pd.get_dummies(x)\n",
    "\n",
    "X_train, X_test, y_train, y_test = train_test_split(X, y, test_size=0.2, random_state=50)\n",
    "\n",
    "rf = RandomForestRegressor(n_estimators=350, random_state=50)\n",
    "rf.fit(X_train, y_train)\n",
    "\n",
    "y_pred = rf.predict(X_test)\n",
    "\n",
    "mse = mean_squared_error(y_test, y_pred)\n",
    "r2 = r2_score(y_test, y_pred)\n",
    "\n",
    "\n",
    "print(f\"Mean Squared Error: {mse}\")\n",
    "print(f\"R-squared: {r2}\")\n"
   ]
  },
  {
   "cell_type": "code",
   "execution_count": 6,
   "id": "774bfda3-9ae8-4f7c-9213-b4c49c2b9edd",
   "metadata": {},
   "outputs": [],
   "source": [
    "from math import sqrt, exp"
   ]
  },
  {
   "cell_type": "code",
   "execution_count": 7,
   "id": "9deb2006-c379-4bc5-ab12-2071d13a432c",
   "metadata": {},
   "outputs": [
    {
     "name": "stdout",
     "output_type": "stream",
     "text": [
      "[39.07843882]\n",
      "518.6736997075454\n"
     ]
    },
    {
     "name": "stderr",
     "output_type": "stream",
     "text": [
      "C:\\Users\\HIMADRI CHATTERJEE\\AppData\\Local\\Programs\\Python\\Python311\\Lib\\site-packages\\sklearn\\base.py:465: UserWarning: X does not have valid feature names, but RandomForestRegressor was fitted with feature names\n",
      "  warnings.warn(\n",
      "C:\\Users\\HIMADRI CHATTERJEE\\AppData\\Local\\Temp\\ipykernel_9864\\331847542.py:7: DeprecationWarning: Conversion of an array with ndim > 0 to a scalar is deprecated, and will error in future. Ensure you extract a single element from your array before performing this operation. (Deprecated NumPy 1.25.)\n",
      "  print(exp(sqrt(price)))\n"
     ]
    }
   ],
   "source": [
    "arr = np.array([[19, 6, 2012, 0]])\n",
    "features = ['State Name', 'Dist Name', 'Year', 'Crop Name']\n",
    "\n",
    "input = pd.DataFrame(arr, columns = features)\n",
    "price = rf.predict(arr)\n",
    "print(price)\n",
    "print(exp(sqrt(price)))"
   ]
  },
  {
   "cell_type": "code",
   "execution_count": 13,
   "id": "f1f44b74-f24f-45a0-934b-5b6aa63658b2",
   "metadata": {},
   "outputs": [
    {
     "name": "stdout",
     "output_type": "stream",
     "text": [
      "Mean Squared Error: 29.39\n",
      "Root Mean Squared Error: 5.42\n",
      "R-squared: 0.559239368826548\n"
     ]
    }
   ],
   "source": [
    "##using gradient boosting\n",
    "\n",
    "from sklearn.ensemble import GradientBoostingRegressor\n",
    "\n",
    "X = df.drop(columns = ['Price (Rs. per Quintal)'])\n",
    "y = df['Price (Rs. per Quintal)']\n",
    "X_train, X_test, y_train, y_test = train_test_split(X, y, test_size=0.2, random_state=42)\n",
    "\n",
    "gbr = GradientBoostingRegressor(\n",
    "    n_estimators=400,       \n",
    "    learning_rate=0.1,      \n",
    "    max_depth=3,            \n",
    "    random_state=42         \n",
    ")\n",
    "\n",
    "gbr.fit(X_train, y_train)\n",
    "\n",
    "y_pred = gbr.predict(X_test)\n",
    "\n",
    "mse = mean_squared_error(y_test, y_pred)\n",
    "rmse = np.sqrt(mse)\n",
    "r2 = r2_score(y_test, y_pred)\n",
    "\n",
    "print(f\"Mean Squared Error: {mse:.2f}\")\n",
    "print(f\"Root Mean Squared Error: {rmse:.2f}\")\n",
    "print(f\"R-squared: {r2}\")"
   ]
  },
  {
   "cell_type": "code",
   "execution_count": null,
   "id": "66c2a266-9c79-4fba-b12f-16a4a654ce99",
   "metadata": {},
   "outputs": [],
   "source": [
    "##linear regression\n",
    "from sklearn.linear_model import LinearRegression"
   ]
  }
 ],
 "metadata": {
  "kernelspec": {
   "display_name": "Python 3 (ipykernel)",
   "language": "python",
   "name": "python3"
  },
  "language_info": {
   "codemirror_mode": {
    "name": "ipython",
    "version": 3
   },
   "file_extension": ".py",
   "mimetype": "text/x-python",
   "name": "python",
   "nbconvert_exporter": "python",
   "pygments_lexer": "ipython3",
   "version": "3.11.3"
  }
 },
 "nbformat": 4,
 "nbformat_minor": 5
}
